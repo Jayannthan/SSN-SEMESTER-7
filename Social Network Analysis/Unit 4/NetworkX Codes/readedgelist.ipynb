{
  "cells": [
    {
      "cell_type": "code",
      "execution_count": null,
      "metadata": {
        "colab": {
          "base_uri": "https://localhost:8080/"
        },
        "id": "GA8c3SdWujsv",
        "outputId": "6cbaf4a3-0474-4997-a5c4-ff2c0d266385"
      },
      "outputs": [
        {
          "name": "stdout",
          "output_type": "stream",
          "text": [
            "0 1 {}\n",
            "\n",
            "1 2 {}\n",
            "\n",
            "2 3 {}\n",
            "\n"
          ]
        },
        {
          "data": {
            "text/plain": [
              "[(0, 1), (1, 2), (2, 3)]"
            ]
          },
          "execution_count": 2,
          "metadata": {},
          "output_type": "execute_result"
        }
      ],
      "source": [
        "import networkx as nx\n",
        "import matplotlib.pyplot as plt\n",
        "\n",
        "G = nx.path_graph(4)\n",
        "# nx.draw(G)\n",
        "nx.write_edgelist(G, \"edgelist.txt\")\n",
        "fh = open(\"edgelist.txt\", \"r\")\n",
        "for line in fh.readlines():\n",
        "    print(line)\n",
        "list(G.edges)\n",
        "\n",
        "# nx.draw(G)\n",
        "# plt.show()\n",
        "# fh.close()\n"
      ]
    }
  ],
  "metadata": {
    "colab": {
      "provenance": []
    },
    "kernelspec": {
      "display_name": "Python 3",
      "name": "python3"
    },
    "language_info": {
      "name": "python"
    }
  },
  "nbformat": 4,
  "nbformat_minor": 0
}
