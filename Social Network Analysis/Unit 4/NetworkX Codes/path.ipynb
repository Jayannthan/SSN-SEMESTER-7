{
  "cells": [
    {
      "cell_type": "code",
      "execution_count": null,
      "metadata": {
        "colab": {
          "base_uri": "https://localhost:8080/",
          "height": 319
        },
        "id": "DPZ-0nsOZ6KY",
        "outputId": "3767e4e2-d5fd-4d6b-8349-cc4c542a47ec"
      },
      "outputs": [
        {
          "data": {
            "image/png": "[encoded data removed]",
            "text/plain": [
              "<Figure size 432x288 with 1 Axes>"
            ]
          },
          "metadata": {},
          "output_type": "display_data"
        }
      ],
      "source": [
        "import networkx.generators.small\n",
        "import matplotlib.pyplot as plt\n",
        "import networkx as nx\n",
        "\n",
        "g = networkx.generators.small.krackhardt_kite_graph()\n",
        "nx.draw(g, with_labels=True)\n",
        "plt.show()\n"
      ]
    },
    {
      "cell_type": "code",
      "execution_count": null,
      "metadata": {
        "colab": {
          "base_uri": "https://localhost:8080/"
        },
        "id": "zydh0wnnjHJL",
        "outputId": "485215c1-9620-4b42-ffdc-b6cc1206aa99"
      },
      "outputs": [
        {
          "name": "stdout",
          "output_type": "stream",
          "text": [
            "[0, 1, 2, 3, 4, 5, 6, 7, 8, 9]\n"
          ]
        }
      ],
      "source": [
        "n=g.nodes()\n",
        "print (n)"
      ]
    },
    {
      "cell_type": "code",
      "execution_count": null,
      "metadata": {
        "colab": {
          "base_uri": "https://localhost:8080/"
        },
        "id": "-vM-QwcojC8t",
        "outputId": "69db8008-9b03-420c-cd35-42cbc4b2c1e4"
      },
      "outputs": [
        {
          "data": {
            "text/plain": [
              "18"
            ]
          },
          "execution_count": 4,
          "metadata": {},
          "output_type": "execute_result"
        }
      ],
      "source": [
        "g.number_of_edges()"
      ]
    },
    {
      "cell_type": "code",
      "execution_count": null,
      "metadata": {
        "colab": {
          "base_uri": "https://localhost:8080/"
        },
        "id": "M0sfn9xuk434",
        "outputId": "e132168f-c9f8-4007-a7c4-7a729ac8fd65"
      },
      "outputs": [
        {
          "data": {
            "text/plain": [
              "AdjacencyView({0: {1: {}, 2: {}, 3: {}, 5: {}}, 1: {0: {}, 3: {}, 4: {}, 6: {}}, 2: {0: {}, 3: {}, 5: {}}, 3: {0: {}, 1: {}, 2: {}, 4: {}, 5: {}, 6: {}}, 4: {1: {}, 3: {}, 6: {}}, 5: {0: {}, 2: {}, 3: {}, 6: {}, 7: {}}, 6: {1: {}, 3: {}, 4: {}, 5: {}, 7: {}}, 7: {5: {}, 6: {}, 8: {}}, 8: {7: {}, 9: {}}, 9: {8: {}}})"
            ]
          },
          "execution_count": 5,
          "metadata": {},
          "output_type": "execute_result"
        }
      ],
      "source": [
        "g.adj"
      ]
    },
    {
      "cell_type": "code",
      "execution_count": null,
      "metadata": {
        "id": "jQ6l1vUWB4Js"
      },
      "outputs": [],
      "source": [
        "from networkx.algorithms import traversal"
      ]
    },
    {
      "cell_type": "code",
      "execution_count": null,
      "metadata": {
        "colab": {
          "base_uri": "https://localhost:8080/"
        },
        "id": "lwHd8DSWHuLg",
        "outputId": "8f41897d-2947-4809-9707-db86c64fbabc"
      },
      "outputs": [
        {
          "name": "stdout",
          "output_type": "stream",
          "text": [
            "node 0\n",
            "Visited [0]\n",
            "neighbor 1\n",
            "node 1\n",
            "Visited [0, 1]\n",
            "neighbor 0\n",
            "neighbor 3\n",
            "node 3\n",
            "Visited [0, 1, 3]\n",
            "neighbor 0\n",
            "neighbor 1\n",
            "neighbor 2\n",
            "node 2\n",
            "Visited [0, 1, 3, 2]\n",
            "neighbor 0\n",
            "neighbor 3\n",
            "neighbor 5\n",
            "node 5\n",
            "Visited [0, 1, 3, 2, 5]\n",
            "neighbor 0\n",
            "neighbor 2\n",
            "neighbor 3\n",
            "neighbor 6\n",
            "node 6\n",
            "Visited [0, 1, 3, 2, 5, 6]\n",
            "neighbor 1\n",
            "neighbor 3\n",
            "neighbor 4\n",
            "node 4\n",
            "Visited [0, 1, 3, 2, 5, 6, 4]\n",
            "neighbor 1\n",
            "neighbor 3\n",
            "neighbor 6\n",
            "neighbor 5\n",
            "neighbor 7\n",
            "node 7\n",
            "Visited [0, 1, 3, 2, 5, 6, 4, 7]\n",
            "neighbor 5\n",
            "neighbor 6\n",
            "neighbor 8\n",
            "node 8\n",
            "Visited [0, 1, 3, 2, 5, 6, 4, 7, 8]\n",
            "neighbor 7\n",
            "neighbor 9\n",
            "node 9\n",
            "Visited [0, 1, 3, 2, 5, 6, 4, 7, 8, 9]\n",
            "neighbor 8\n",
            "neighbor 7\n",
            "neighbor 4\n",
            "neighbor 5\n",
            "neighbor 6\n",
            "neighbor 4\n",
            "neighbor 6\n",
            "neighbor 2\n",
            "neighbor 3\n",
            "neighbor 5\n"
          ]
        },
        {
          "data": {
            "text/plain": [
              "[0, 1, 3, 2, 5, 6, 4, 7, 8, 9]"
            ]
          },
          "execution_count": 7,
          "metadata": {},
          "output_type": "execute_result"
        }
      ],
      "source": [
        "def DFS_nodes(graph, node, visited=[]):\n",
        "  print(\"node\", node)\n",
        "  visited.append(node)\n",
        "  print(\"Visited\", visited)\n",
        "  for neighbor in graph[node]:\n",
        "        print(\"neighbor\", neighbor)\n",
        "        if not neighbor in visited:\n",
        "              DFS_nodes(graph, neighbor, visited)\n",
        "  return visited\n",
        "DFS_nodes(g, 0)\n"
      ]
    },
    {
      "cell_type": "code",
      "execution_count": null,
      "metadata": {
        "colab": {
          "base_uri": "https://localhost:8080/"
        },
        "id": "kXqABSlgIOUn",
        "outputId": "a9c80247-f9cf-4414-9909-52da2c97dcaf"
      },
      "outputs": [
        {
          "name": "stdout",
          "output_type": "stream",
          "text": [
            "node 0\n",
            "visited [0]\n",
            "ni 1\n",
            "node 1\n",
            "visited [0, 1]\n",
            "ni 0\n",
            "ni 3\n",
            "node 3\n",
            "visited [0, 1, 3]\n",
            "ni 0\n",
            "ni 1\n",
            "ni 2\n",
            "node 2\n",
            "visited [0, 1, 3, 2]\n",
            "ni 0\n",
            "ni 3\n",
            "ni 5\n",
            "node 5\n",
            "visited [0, 1, 3, 2, 5]\n",
            "ni 0\n",
            "ni 2\n",
            "ni 3\n",
            "ni 6\n",
            "node 6\n",
            "visited [0, 1, 3, 2, 5, 6]\n",
            "ni 1\n",
            "ni 3\n",
            "ni 4\n",
            "node 4\n",
            "visited [0, 1, 3, 2, 5, 6, 4]\n",
            "ni 1\n",
            "ni 3\n",
            "ni 6\n",
            "ni 5\n",
            "ni 7\n",
            "node 7\n",
            "visited [0, 1, 3, 2, 5, 6, 4, 7]\n",
            "ni 5\n",
            "ni 6\n",
            "ni 8\n",
            "node 8\n",
            "visited [0, 1, 3, 2, 5, 6, 4, 7, 8]\n",
            "ni 7\n",
            "ni 9\n",
            "node 9\n",
            "visited [0, 1, 3, 2, 5, 6, 4, 7, 8, 9]\n",
            "ni 8\n",
            "ni 7\n",
            "ni 4\n",
            "ni 5\n",
            "ni 6\n",
            "ni 4\n",
            "ni 6\n",
            "ni 2\n",
            "ni 3\n",
            "ni 5\n"
          ]
        },
        {
          "data": {
            "text/plain": [
              "[(0, 1), (1, 3), (3, 2), (2, 5), (5, 6), (6, 4), (6, 7), (7, 8), (8, 9)]"
            ]
          },
          "execution_count": 8,
          "metadata": {},
          "output_type": "execute_result"
        }
      ],
      "source": [
        "def DFS_edges(graph, node, visited=[], edges=[]):\n",
        "  print (\"node\", node)\n",
        "  visited.append(node)\n",
        "  print(\"visited\", visited)\n",
        "  for ni in graph[node]:\n",
        "    print (\"ni\", ni)\n",
        "    if not ni in visited:\n",
        "     edges.append((node, ni))\n",
        "     DFS_edges(graph, ni, visited, edges)\n",
        "  return edges\n",
        "DFS_edges(g, 0)\n",
        "  "
      ]
    },
    {
      "cell_type": "code",
      "execution_count": null,
      "metadata": {
        "colab": {
          "base_uri": "https://localhost:8080/"
        },
        "id": "GuQfHbvueIEF",
        "outputId": "56f59ef3-ded0-4cc2-f274-eaa75f138cbf"
      },
      "outputs": [
        {
          "data": {
            "text/plain": [
              "[(0, 1),\n",
              " (0, 2),\n",
              " (0, 3),\n",
              " (0, 5),\n",
              " (1, 3),\n",
              " (1, 4),\n",
              " (1, 6),\n",
              " (2, 3),\n",
              " (2, 5),\n",
              " (3, 4),\n",
              " (3, 5),\n",
              " (3, 6),\n",
              " (4, 6),\n",
              " (5, 6),\n",
              " (5, 7),\n",
              " (6, 7),\n",
              " (7, 8),\n",
              " (8, 9)]"
            ]
          },
          "execution_count": 9,
          "metadata": {},
          "output_type": "execute_result"
        }
      ],
      "source": [
        "list(g.edges())"
      ]
    },
    {
      "cell_type": "code",
      "execution_count": null,
      "metadata": {
        "id": "fuL9FS0qfjLQ"
      },
      "outputs": [],
      "source": [
        "n=g.adj"
      ]
    },
    {
      "cell_type": "code",
      "execution_count": null,
      "metadata": {
        "colab": {
          "base_uri": "https://localhost:8080/"
        },
        "id": "vzrzFDkAgq3b",
        "outputId": "0f6ea337-9f7c-4bad-adf1-0dc8633cd6c3"
      },
      "outputs": [
        {
          "data": {
            "text/plain": [
              "[(0, 1), (1, 3), (3, 2), (2, 5), (5, 6), (6, 4), (6, 7), (7, 8), (8, 9)]"
            ]
          },
          "execution_count": 11,
          "metadata": {},
          "output_type": "execute_result"
        }
      ],
      "source": [
        "edges = traversal.dfs_edges(g)\n",
        "edges\n",
        "list(edges)\n"
      ]
    },
    {
      "cell_type": "code",
      "execution_count": null,
      "metadata": {
        "colab": {
          "base_uri": "https://localhost:8080/"
        },
        "id": "-tqI-Y7_mvKi",
        "outputId": "759edd32-fc19-436e-b03c-8d32ebb37fdc"
      },
      "outputs": [
        {
          "data": {
            "text/plain": [
              "{0: [1], 1: [3], 3: [2], 2: [5], 5: [6], 6: [4, 7], 7: [8], 8: [9]}"
            ]
          },
          "execution_count": 12,
          "metadata": {},
          "output_type": "execute_result"
        }
      ],
      "source": [
        "traversal.dfs_successors(g)"
      ]
    },
    {
      "cell_type": "code",
      "execution_count": null,
      "metadata": {
        "colab": {
          "base_uri": "https://localhost:8080/"
        },
        "id": "lsAH1A61oIc5",
        "outputId": "092a2eea-dbbb-48fb-b952-e1ad6f4a884b"
      },
      "outputs": [
        {
          "data": {
            "text/plain": [
              "[1]"
            ]
          },
          "execution_count": 13,
          "metadata": {},
          "output_type": "execute_result"
        }
      ],
      "source": [
        "tree = traversal.dfs_tree(g)\n",
        "list(tree.successors(0))"
      ]
    },
    {
      "cell_type": "code",
      "execution_count": null,
      "metadata": {
        "colab": {
          "base_uri": "https://localhost:8080/"
        },
        "id": "q4-Xzfcqoq2v",
        "outputId": "6b88dcc8-3b0c-4160-99d1-14df6bfd4098"
      },
      "outputs": [
        {
          "data": {
            "text/plain": [
              "AdjacencyView({0: {1: {}}, 1: {3: {}}, 2: {5: {}}, 3: {2: {}}, 4: {}, 5: {6: {}}, 6: {4: {}, 7: {}}, 7: {8: {}}, 8: {9: {}}, 9: {}})"
            ]
          },
          "execution_count": 14,
          "metadata": {},
          "output_type": "execute_result"
        }
      ],
      "source": [
        "tree.succ"
      ]
    },
    {
      "cell_type": "code",
      "execution_count": null,
      "metadata": {
        "colab": {
          "base_uri": "https://localhost:8080/"
        },
        "id": "VpKmPZcBIDTT",
        "outputId": "bfe61cc1-3172-4786-db9e-06b2ea7a42a8"
      },
      "outputs": [
        {
          "data": {
            "text/plain": [
              "[1, 6, 7, 8]"
            ]
          },
          "execution_count": 15,
          "metadata": {},
          "output_type": "execute_result"
        }
      ],
      "source": [
        "from networkx import algorithms\n",
        "algorithms.shortest_path(g,1,8)"
      ]
    },
    {
      "cell_type": "code",
      "execution_count": null,
      "metadata": {
        "colab": {
          "base_uri": "https://localhost:8080/"
        },
        "id": "MO35xLxjkbfz",
        "outputId": "913bb494-252e-4b89-b618-45b1ed7a5b2a"
      },
      "outputs": [
        {
          "data": {
            "text/plain": [
              "1.9777777777777779"
            ]
          },
          "execution_count": 16,
          "metadata": {},
          "output_type": "execute_result"
        }
      ],
      "source": [
        "algorithms.average_shortest_path_length(g)"
      ]
    },
    {
      "cell_type": "code",
      "execution_count": null,
      "metadata": {
        "colab": {
          "base_uri": "https://localhost:8080/"
        },
        "id": "uIfsI8GKkjS6",
        "outputId": "163dfd6d-d632-44c9-885e-b6c54c4e5d0b"
      },
      "outputs": [
        {
          "data": {
            "text/plain": [
              "{0: {0: [0],\n",
              "  1: [0, 1],\n",
              "  2: [0, 2],\n",
              "  3: [0, 3],\n",
              "  5: [0, 5],\n",
              "  4: [0, 1, 4],\n",
              "  6: [0, 1, 6],\n",
              "  7: [0, 5, 7],\n",
              "  8: [0, 5, 7, 8],\n",
              "  9: [0, 5, 7, 8, 9]},\n",
              " 1: {1: [1],\n",
              "  0: [1, 0],\n",
              "  3: [1, 3],\n",
              "  4: [1, 4],\n",
              "  6: [1, 6],\n",
              "  2: [1, 0, 2],\n",
              "  5: [1, 0, 5],\n",
              "  7: [1, 6, 7],\n",
              "  8: [1, 6, 7, 8],\n",
              "  9: [1, 6, 7, 8, 9]},\n",
              " 2: {2: [2],\n",
              "  0: [2, 0],\n",
              "  3: [2, 3],\n",
              "  5: [2, 5],\n",
              "  1: [2, 0, 1],\n",
              "  4: [2, 3, 4],\n",
              "  6: [2, 3, 6],\n",
              "  7: [2, 5, 7],\n",
              "  8: [2, 5, 7, 8],\n",
              "  9: [2, 5, 7, 8, 9]},\n",
              " 3: {3: [3],\n",
              "  0: [3, 0],\n",
              "  1: [3, 1],\n",
              "  2: [3, 2],\n",
              "  4: [3, 4],\n",
              "  5: [3, 5],\n",
              "  6: [3, 6],\n",
              "  7: [3, 5, 7],\n",
              "  8: [3, 5, 7, 8],\n",
              "  9: [3, 5, 7, 8, 9]},\n",
              " 4: {4: [4],\n",
              "  1: [4, 1],\n",
              "  3: [4, 3],\n",
              "  6: [4, 6],\n",
              "  0: [4, 1, 0],\n",
              "  2: [4, 3, 2],\n",
              "  5: [4, 3, 5],\n",
              "  7: [4, 6, 7],\n",
              "  8: [4, 6, 7, 8],\n",
              "  9: [4, 6, 7, 8, 9]},\n",
              " 5: {5: [5],\n",
              "  0: [5, 0],\n",
              "  2: [5, 2],\n",
              "  3: [5, 3],\n",
              "  6: [5, 6],\n",
              "  7: [5, 7],\n",
              "  1: [5, 0, 1],\n",
              "  4: [5, 3, 4],\n",
              "  8: [5, 7, 8],\n",
              "  9: [5, 7, 8, 9]},\n",
              " 6: {6: [6],\n",
              "  1: [6, 1],\n",
              "  3: [6, 3],\n",
              "  4: [6, 4],\n",
              "  5: [6, 5],\n",
              "  7: [6, 7],\n",
              "  0: [6, 1, 0],\n",
              "  2: [6, 3, 2],\n",
              "  8: [6, 7, 8],\n",
              "  9: [6, 7, 8, 9]},\n",
              " 7: {7: [7],\n",
              "  5: [7, 5],\n",
              "  6: [7, 6],\n",
              "  8: [7, 8],\n",
              "  0: [7, 5, 0],\n",
              "  2: [7, 5, 2],\n",
              "  3: [7, 5, 3],\n",
              "  1: [7, 6, 1],\n",
              "  4: [7, 6, 4],\n",
              "  9: [7, 8, 9]},\n",
              " 8: {8: [8],\n",
              "  7: [8, 7],\n",
              "  9: [8, 9],\n",
              "  5: [8, 7, 5],\n",
              "  6: [8, 7, 6],\n",
              "  0: [8, 7, 5, 0],\n",
              "  2: [8, 7, 5, 2],\n",
              "  3: [8, 7, 5, 3],\n",
              "  1: [8, 7, 6, 1],\n",
              "  4: [8, 7, 6, 4]},\n",
              " 9: {9: [9],\n",
              "  8: [9, 8],\n",
              "  7: [9, 8, 7],\n",
              "  5: [9, 8, 7, 5],\n",
              "  6: [9, 8, 7, 6],\n",
              "  0: [9, 8, 7, 5, 0],\n",
              "  2: [9, 8, 7, 5, 2],\n",
              "  3: [9, 8, 7, 5, 3],\n",
              "  1: [9, 8, 7, 6, 1],\n",
              "  4: [9, 8, 7, 6, 4]}}"
            ]
          },
          "execution_count": 20,
          "metadata": {},
          "output_type": "execute_result"
        }
      ],
      "source": [
        "dict(nx.all_pairs_shortest_path(g))"
      ]
    },
    {
      "cell_type": "code",
      "execution_count": null,
      "metadata": {
        "colab": {
          "base_uri": "https://localhost:8080/"
        },
        "id": "Ee-UVoNsmu36",
        "outputId": "1fe4ad1b-b493-409b-8965-6e04193acfb5"
      },
      "outputs": [
        {
          "data": {
            "text/plain": [
              "[1, 6, 7, 8, 9]"
            ]
          },
          "execution_count": 24,
          "metadata": {},
          "output_type": "execute_result"
        }
      ],
      "source": [
        "algorithms.dijkstra_path(g, 1, 9)"
      ]
    }
  ],
  "metadata": {
    "colab": {
      "provenance": []
    },
    "kernelspec": {
      "display_name": "Python 3",
      "name": "python3"
    },
    "language_info": {
      "name": "python"
    }
  },
  "nbformat": 4,
  "nbformat_minor": 0
}
